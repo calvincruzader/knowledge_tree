{
 "cells": [
  {
   "cell_type": "markdown",
   "metadata": {},
   "source": [
    "# Intro to AWS Cloud "
   ]
  },
  {
   "cell_type": "markdown",
   "metadata": {},
   "source": [
    "Cloud Computing - on-demand delivery of IT resources and applications via the Internet with pay-as-you-go pricing.\n",
    "* no longer have to have the hassle of in-house compute resources (max peeks, cooling down systems, etc.)\n",
    "* cloud computing gives agility, which leads to more experimentation, which leads to more innovation\n",
    "    * highly available:\n",
    "        * systems always functioning and accessible\n",
    "        * downtime minimized as much as possible \n",
    "        * without human intervention \n",
    "    * fault tolerance: \n",
    "        * built-in redundancy of components \n",
    "        * applications operational during component failures \n",
    "* cloud computing gives elasticity\n",
    "    * elasticity - the property of a business (or entity whatever) to scale up or down easily while paying only for the actual resources used\n",
    "    * quickly deploy new apps, instantly scale up as workload grows, instantly shut down resources that aren't required anymore, scale down and don't pay for infrastructure\n",
    "* security and compliance is important\n",
    "    * customer retains control over region where data is located \n",
    "    * security auditing is periodic and manual \n",
    "    * aws cloud provides governance capabilities (which enables continuous monitoring of config changes to IT resources) \n",
    "    * industry-leading capabilities that meet strictest security requirements \n",
    "* AWS data centers, mad safe \n",
    "* reliability, high performing and reliable solutions\n",
    "    * ability to recover from failures \n",
    "    * dynamically acquire resources to meet demand and mitigate disruptions \n",
    "    * architecture must be well-planned \n",
    "* pay-as-you-go pricing! \n",
    "    * avoid dedicating resources to infrastructure \n"
   ]
  }
 ],
 "metadata": {
  "kernelspec": {
   "display_name": "Python 3",
   "language": "python",
   "name": "python3"
  },
  "language_info": {
   "codemirror_mode": {
    "name": "ipython",
    "version": 3
   },
   "file_extension": ".py",
   "mimetype": "text/x-python",
   "name": "python",
   "nbconvert_exporter": "python",
   "pygments_lexer": "ipython3",
   "version": "3.6.5"
  }
 },
 "nbformat": 4,
 "nbformat_minor": 2
}
